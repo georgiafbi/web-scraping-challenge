{
 "cells": [
  {
   "cell_type": "markdown",
   "metadata": {},
   "source": [
    "## Step 1 -Scraping"
   ]
  },
  {
   "cell_type": "code",
   "execution_count": 1,
   "metadata": {},
   "outputs": [],
   "source": [
    "from splinter import Browser\n",
    "from bs4 import BeautifulSoup\n",
    "from webdriver_manager.chrome import ChromeDriverManager\n",
    "import os\n",
    "import pandas as pd\n",
    "import requests\n",
    "from pprint import pprint\n",
    "import time"
   ]
  },
  {
   "cell_type": "markdown",
   "metadata": {},
   "source": [
    "### Nasa Mars News"
   ]
  },
  {
   "cell_type": "code",
   "execution_count": 2,
   "metadata": {},
   "outputs": [
    {
     "name": "stdout",
     "output_type": "stream",
     "text": [
      "-------------\n",
      "NASA's Perseverance Drives on Mars' Terrain for First Time\n",
      "\n",
      "The first trek of the agency’s largest, most advanced rover yet on the Red Planet marks a major milestone before science operations get under way.\n",
      "\n",
      "-------------\n",
      "NASA Awards Mars Ascent Propulsion System Contract for Sample Return\n",
      "\n",
      "The award moves NASA and ESA a step closer to realizing Mars Sample Return, an ambitious planetary exploration program that will build upon decades of science, knowledge, and experience.\n",
      "\n",
      "-------------\n",
      "NASA to Provide Update on Perseverance ‘Firsts' Since Mars Landing \n",
      "\n",
      "Mission team members are participating in a virtual teleconference to discuss milestones achieved so far since the Feb. 18 landing and those to come.\n",
      "\n",
      "-------------\n",
      "NASA's Mars Perseverance Rover Provides Front-Row Seat to Landing, First Audio Recording of Red Planet \n",
      "\n",
      "The agency’s newest rover captured first-of-its kind footage of its Feb. 18 touchdown and has recorded audio of Martian wind.\n",
      "\n",
      "\n",
      "\n",
      "-------------\n",
      "NASA to Reveal New Video, Images From Mars Perseverance Rover\n",
      "\n",
      "First-of-its kind footage from the agency’s newest rover will be presented during a briefing this morning.\n",
      "\n",
      "-------------\n",
      "NASA's Next Mars Rover Is Ready for the Most Precise Landing Yet\n",
      "\n",
      "What to expect when the Mars 2020 Perseverance rover arrives at the Red Planet on Feb. 18, 2021.\n",
      "\n"
     ]
    }
   ],
   "source": [
    "# URL of page to be scraped\n",
    "url = \"https://mars.nasa.gov/news/\"\n",
    "\n",
    "#retrieve page with the requests module\n",
    "response = requests.get(url)\n",
    "\n",
    "# Create BeautifulSoup object; parse with 'lxml'\n",
    "soup = BeautifulSoup(response.text, 'lxml')\n",
    "\n",
    "# Examine the results, then determine element that contains sought info\n",
    "# print(soup.prettify())\n",
    "\n",
    "#results are returned as an iterable list\n",
    "results=soup.find_all('div',class_='slide')\n",
    "\n",
    "\n",
    "#Loop through returned results\n",
    "mars_news_collection=[]\n",
    "for result in results:\n",
    "    #error handling\n",
    "    try:\n",
    "         #identify and return \"rollover_description_inner\" of listing\n",
    "        news_p = result.find('div',class_=\"rollover_description_inner\").text\n",
    "        #print(news_p)\n",
    "        #identify and return news title of listing\n",
    "        news_title =result.find('img',class_='img-lazy')['alt']\n",
    "        # Print results only if news_title, and news_p\n",
    "        if (news_title and news_p):\n",
    "            mars_news_dict={'news_title':news_title,'news_p':news_p}\n",
    "            mars_news_collection.append(mars_news_dict)\n",
    "            print('-------------')\n",
    "            print(news_title)\n",
    "            print(news_p)\n",
    "    except AttributeError as e:\n",
    "        print(e)\n",
    "       \n",
    "        \n",
    "        \n",
    "        \n",
    "        "
   ]
  },
  {
   "cell_type": "markdown",
   "metadata": {},
   "source": [
    "### JPL Mars Space Images - Featured Image"
   ]
  },
  {
   "cell_type": "code",
   "execution_count": 3,
   "metadata": {},
   "outputs": [
    {
     "name": "stderr",
     "output_type": "stream",
     "text": [
      "[WDM] - ====== WebDriver manager ======\n",
      "[WDM] - Current google-chrome version is 89.0.4389\n",
      "[WDM] - Get LATEST driver version for 89.0.4389\n",
      "[WDM] - Driver [C:\\Users\\Silho\\.wdm\\drivers\\chromedriver\\win32\\89.0.4389.23\\chromedriver.exe] found in cache\n"
     ]
    },
    {
     "name": "stdout",
     "output_type": "stream",
     "text": [
      "\n",
      "\n"
     ]
    }
   ],
   "source": [
    "# Setup splinter\n",
    "executable_path = {'executable_path': ChromeDriverManager().install()}\n",
    "browser = Browser('chrome', **executable_path, headless=False)\n",
    "browser.driver.maximize_window()\n",
    "\n",
    "mars_img_url_list=[]\n",
    "mars_image_url = 'https://www.jpl.nasa.gov/images?search=&category=Mars'\n",
    "browser.visit(mars_image_url)\n",
    "# html=browser.html\n",
    "time.sleep(2)\n",
    "xpath='/html/body/div/div/div/header/div[1]/div[3]/div/nav/div[1]/div[4]/button'\n",
    "browser.find_by_xpath(xpath).click()\n",
    "html=browser.html\n",
    "\n",
    "featured_img_soup=BeautifulSoup(html,'html.parser')\n",
    "\n",
    "featured_img=featured_img_soup.find_all('div',class_='col-span-3')\n",
    "super_cam_url=featured_img[0].find('a')['href']\n",
    "\n",
    "browser.visit(f'https://www.jpl.nasa.gov{super_cam_url}')\n",
    "time.sleep(2)"
   ]
  },
  {
   "cell_type": "code",
   "execution_count": 4,
   "metadata": {},
   "outputs": [
    {
     "name": "stdout",
     "output_type": "stream",
     "text": [
      "https://d2pn8kiwq2w21t.cloudfront.net/images/jpegPIA24179.width-1600.jpg\n"
     ]
    }
   ],
   "source": [
    "html2=browser.html\n",
    "\n",
    "supercam_img_soup=BeautifulSoup(html2,'html.parser')\n",
    "supercam_img_id=supercam_img_soup.find('div',id='82498')\n",
    "\n",
    "\n",
    "supercam_img_url=supercam_img_id.find('img')[\"srcset\"].split()[-2]\n",
    "browser.visit(supercam_img_url)\n",
    "print(supercam_img_url)"
   ]
  },
  {
   "cell_type": "code",
   "execution_count": null,
   "metadata": {
    "scrolled": true
   },
   "outputs": [],
   "source": [
    "# featured_image_url=[]\n",
    "# for news in featured_news:\n",
    "#     try:\n",
    "#         browser.links.find_by_partial_text('News').click()\n",
    "#         print(\"Scraping Complete\")\n",
    "#         featured_img_soup=BeautifulSoup(html,'html.parser')\n",
    "#         featured_article=featured_img_soup.find('div',class_='BaseImagePlaceHolder')\n",
    "#         featured_image_url.append(featured_article.find('img',class_='BaseImage')['src']\n",
    "        \n",
    "#     except:\n",
    "#         print(scraping complete)\n",
    "    \n",
    "\n",
    "\n",
    "\n",
    "# try:\n",
    "#     browser.links.find_by_partial_text('News').click()\n",
    "# except:\n",
    "#     print(\"Scraping Complete\")\n",
    "# featured_img_soup=BeautifulSoup(html,'html.parser')\n",
    "# featured_article=featured_img_soup.find('div',class_='mb_4')\n",
    "# featured_image_url=featured_article.find('img',class_='BaseImage')\n",
    "\n",
    "# for x in range(1000):\n",
    "#     html = browser.html\n",
    "#     featured_img_soup = BeautifulSoup(html, 'html.parser')\n",
    "#     # search_bar = featured_img_soup.find('span',class=\"inline-block px-1 pb-1 can-hover:group-hover:border-b-2 can-hover:group-hover:border-jpl-red\")\n",
    "#     # showing_results\n",
    "#     search_listing=featured_img_soup.find('div', id=\"SearchListingPageResults\")\n",
    "#     search_result =search_listing.find_all('div',class_=\"SearchResultCard\")\n",
    "#     # img_links=search_result.find_all('img',class_=\"BaseImage\")\n",
    "#     # search_result\n",
    "#     for result in search_result:\n",
    "#         mars_img_url=result.find('img',class_=\"BaseImage\")['src']\n",
    "#         mars_img_url_list.append(mars_img_url)\n",
    "        \n",
    "#     # Click the 'Next' button on each page\n",
    "#     try:\n",
    "#         browser.links.find_by_partial_text('Next').click()\n",
    "          \n",
    "#     except:\n",
    "#         print(\"Scraping Complete\")\n",
    "\n",
    "\n",
    "\n",
    "for result in search_result:\n",
    "    \n",
    "\n",
    "for x in range(1, 6):\n",
    "\n",
    "    \n",
    "\n",
    "#     quotes = soup.find_all('span', class_='text')\n",
    "\n",
    "#     for quote in quotes:\n",
    "#         print('page:', x, '-------------')\n",
    "#         print(quote.text)\n",
    "\n",
    "#     browser.links.find_by_partial_text('Next').click()"
   ]
  },
  {
   "cell_type": "code",
   "execution_count": null,
   "metadata": {},
   "outputs": [],
   "source": []
  },
  {
   "cell_type": "code",
   "execution_count": null,
   "metadata": {},
   "outputs": [],
   "source": []
  },
  {
   "cell_type": "code",
   "execution_count": null,
   "metadata": {},
   "outputs": [],
   "source": []
  },
  {
   "cell_type": "code",
   "execution_count": null,
   "metadata": {},
   "outputs": [],
   "source": []
  },
  {
   "cell_type": "code",
   "execution_count": null,
   "metadata": {},
   "outputs": [],
   "source": []
  },
  {
   "cell_type": "code",
   "execution_count": null,
   "metadata": {},
   "outputs": [],
   "source": []
  },
  {
   "cell_type": "code",
   "execution_count": null,
   "metadata": {},
   "outputs": [],
   "source": []
  }
 ],
 "metadata": {
  "kernelspec": {
   "display_name": "Python 3",
   "language": "python",
   "name": "python3"
  },
  "language_info": {
   "codemirror_mode": {
    "name": "ipython",
    "version": 3
   },
   "file_extension": ".py",
   "mimetype": "text/x-python",
   "name": "python",
   "nbconvert_exporter": "python",
   "pygments_lexer": "ipython3",
   "version": "3.8.5"
  }
 },
 "nbformat": 4,
 "nbformat_minor": 4
}
